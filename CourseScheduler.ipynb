{
 "cells": [
  {
   "cell_type": "markdown",
   "metadata": {},
   "source": [
    "This is a college major planner that prospective students can use to get an idea of what classes they will need to take in order to graduate with a certain major. The planner will take in a major the student is interested in and present them with an interactive scheduler which the student can use to keep track of what they have completed and what classes still need to be taken. "
   ]
  },
  {
   "cell_type": "markdown",
   "metadata": {},
   "source": [
    "### The student will input the major they are interested in. We will then use Selenium to scrape the required classes for that major from the college's website."
   ]
  },
  {
   "cell_type": "markdown",
   "metadata": {},
   "source": [
    "### Gather the required course names and codes from the degree requirement page "
   ]
  },
  {
   "cell_type": "markdown",
   "metadata": {},
   "source": [
    "### Gather the rest of the information from the course catalog page (due to formatting complications)\n"
   ]
  },
  {
   "cell_type": "code",
   "execution_count": null,
   "metadata": {
    "vscode": {
     "languageId": "plaintext"
    }
   },
   "outputs": [],
   "source": [
    "class Course:\n",
    "    def __init__(self, name, code):\n",
    "        self._name = name\n",
    "        self._code = code\n",
    "        self._credits = 0\n",
    "        self._description = \"\"\n",
    "        self._frequency = \"\"\n",
    "        self._prerequisites = []\n",
    "\n",
    "    @property\n",
    "    def name(self):\n",
    "        return self._name\n",
    "\n",
    "    @name.setter\n",
    "    def name(self, value):\n",
    "        self._name = value\n",
    "\n",
    "    @property\n",
    "    def code(self):\n",
    "        return self._code\n",
    "\n",
    "    @code.setter\n",
    "    def code(self, value):\n",
    "        self._code = value\n",
    "\n",
    "    @property\n",
    "    def credits(self):\n",
    "        return self._credits\n",
    "\n",
    "    @credits.setter\n",
    "    def credits(self, value):\n",
    "        self._credits = value\n",
    "\n",
    "    @property\n",
    "    def description(self):\n",
    "        return self._description\n",
    "\n",
    "    @description.setter\n",
    "    def description(self, value):\n",
    "        self._description = value\n",
    "\n",
    "    @property\n",
    "    def frequency(self):\n",
    "        return self._frequency\n",
    "\n",
    "    @frequency.setter\n",
    "    def frequency(self, value):\n",
    "        self._frequency = value\n",
    "\n",
    "    @property\n",
    "    def prerequisites(self):\n",
    "        return self._prerequisites\n",
    "\n",
    "    @prerequisites.setter\n",
    "    def prerequisites(self, value):\n",
    "        self._prerequisites = value\n",
    "\n",
    "    def __str__(self):\n",
    "        return f\"Course: {self.name} ({self.code}), Credits: {self.credits}, Description: {self.description}, Frequency: {self.frequency}, Prerequisites: {self.prerequisites}\"\n"
   ]
  }
 ],
 "metadata": {
  "language_info": {
   "name": "python"
  }
 },
 "nbformat": 4,
 "nbformat_minor": 2
}
