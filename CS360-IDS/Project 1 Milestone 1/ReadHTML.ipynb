{
 "cells": [
  {
   "cell_type": "code",
   "execution_count": null,
   "id": "21c7eadb-a4af-4003-bfdf-415560123deb",
   "metadata": {},
   "outputs": [],
   "source": [
    "\n",
    "#Liam Zalubas\n",
    "\n",
    "#Project Part 1: take in HTML file and dump it in the console (commented out to demonstrate part 2)\n",
    "\n",
    "#file = open(\"Python/CS360-IDS/ClassWebsite.html\")\n",
    "#print(file.read())\n",
    "\n",
    "#Project Part 2: analyze the file contents by printing:\n",
    "# - webpage title\n",
    "# - link count\n",
    "\n",
    "openTitleTag = \"<title>\"\n",
    "closeTitleTag = \"</title>\"\n",
    "linkPattern = 'href='\n",
    "linkCount = 0\n",
    "pageTitle = \"\"\n",
    "\n",
    "with open(\"ClassWebsite.html\") as file:\n",
    "    line = [line.rstrip() for line in file]\n",
    "    for i in range (0, len(line)):\n",
    "        #step: find <title>Data Science</title>\n",
    "        titleIndex = line[i].find(openTitleTag)\n",
    "        endIndex = line[i].find(closeTitleTag)\n",
    "\n",
    "        #step: use substring to strip tags from text\n",
    "        # since the find function returns -1 if not found, this will detect when indices are different\n",
    "        if (titleIndex != endIndex):\n",
    "            pageTitle = (line[i][titleIndex+len(openTitleTag):endIndex])\n",
    "\n",
    "        #step: find each href tag and ensure its link does not begin with '#'\n",
    "        #make sure we get every href tag for this line, so we keep track of last href tag index\n",
    "        lastLinkIndex = 0\n",
    "        for j in range(0, line[i].count(linkPattern)):\n",
    "            hrefIndex = line[i].find(linkPattern, lastLinkIndex)\n",
    "            if (hrefIndex != -1):\n",
    "                lastLinkIndex = hrefIndex+len(linkPattern)\n",
    "                firstLinkChar = line[i][hrefIndex+len(linkPattern)+1]\n",
    "                if (firstLinkChar != \"#\"):\n",
    "                    linkCount += 1\n",
    "\n",
    "\n",
    "\n",
    "\n",
    "print(\"Page Title:\",pageTitle)\n",
    "print(\"Link Count:\",linkCount)"
   ]
  }
 ],
 "metadata": {
  "kernelspec": {
   "display_name": "Python 3 (ipykernel)",
   "language": "python",
   "name": "python3"
  },
  "language_info": {
   "codemirror_mode": {
    "name": "ipython",
    "version": 3
   },
   "file_extension": ".py",
   "mimetype": "text/x-python",
   "name": "python",
   "nbconvert_exporter": "python",
   "pygments_lexer": "ipython3",
   "version": "3.11.4"
  }
 },
 "nbformat": 4,
 "nbformat_minor": 5
}
