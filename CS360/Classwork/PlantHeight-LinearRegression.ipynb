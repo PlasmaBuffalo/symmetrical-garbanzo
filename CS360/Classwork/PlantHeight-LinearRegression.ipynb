{
 "cells": [
  {
   "cell_type": "code",
   "execution_count": null,
   "metadata": {},
   "outputs": [],
   "source": [
    "import pandas\n",
    "import matplotlib.pyplot as plt\n",
    "from sklearn.linear_model import LinearRegression\n",
    "\n",
    "data = pandas.read_csv(\"Plant Height Data - Data.csv\")\n",
    "\n",
    "plt.scatter(data.get(\"temp\"), data.get(\"height\"))\n",
    "\n",
    "\n",
    "# now getting line of best fit\n",
    "model = LinearRegression()\n",
    "\n",
    "temps = \n",
    "\n",
    "model.fit(data.get(\"temp\"), data.get(\"height\"))\n",
    "\n",
    "plt.show()\n"
   ]
  }
 ],
 "metadata": {
  "kernelspec": {
   "display_name": ".venv",
   "language": "python",
   "name": "python3"
  },
  "language_info": {
   "codemirror_mode": {
    "name": "ipython",
    "version": 3
   },
   "file_extension": ".py",
   "mimetype": "text/x-python",
   "name": "python",
   "nbconvert_exporter": "python",
   "pygments_lexer": "ipython3",
   "version": "3.11.5"
  }
 },
 "nbformat": 4,
 "nbformat_minor": 2
}
